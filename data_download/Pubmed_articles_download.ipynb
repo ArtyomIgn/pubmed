{
 "cells": [
  {
   "cell_type": "markdown",
   "id": "a02905e4",
   "metadata": {},
   "source": [
    "Lib: https://biopython.org/docs/1.75/api/Bio.Entrez.html\n",
    "API documentation: https://www.ncbi.nlm.nih.gov/home/develop/api/"
   ]
  },
  {
   "cell_type": "code",
   "execution_count": 1,
   "id": "4d7c30eb",
   "metadata": {
    "ExecuteTime": {
     "end_time": "2024-03-31T13:16:16.218282Z",
     "start_time": "2024-03-31T13:16:16.207106Z"
    }
   },
   "outputs": [],
   "source": [
    "from Bio import Entrez\n",
    "Entrez.email = \"your_email@example.com\" "
   ]
  },
  {
   "cell_type": "code",
   "execution_count": 2,
   "id": "b1470764",
   "metadata": {
    "ExecuteTime": {
     "end_time": "2024-03-31T13:16:16.940850Z",
     "start_time": "2024-03-31T13:16:16.220104Z"
    }
   },
   "outputs": [
    {
     "name": "stdout",
     "output_type": "stream",
     "text": [
      "['38554984', '38553516', '38551425', '38550410', '38550406', '38550195', '38547832', '38546641', '38545466', '38545001']\n"
     ]
    }
   ],
   "source": [
    "search_result = Entrez.esearch(db=\"pubmed\", term=\"Helicobacter pylori\", retmax=10)\n",
    "record = Entrez.read(search_result) # This will get the PubMed IDs (PMIDs) of the first 10 search results\n",
    "id_list = record[\"IdList\"]\n",
    "print(id_list)  "
   ]
  },
  {
   "cell_type": "code",
   "execution_count": 3,
   "id": "9c92c784",
   "metadata": {
    "ExecuteTime": {
     "end_time": "2024-03-31T13:16:18.274780Z",
     "start_time": "2024-03-31T13:16:16.942862Z"
    }
   },
   "outputs": [
    {
     "name": "stdout",
     "output_type": "stream",
     "text": [
      "Helicobacter pylori eradication with high-dose proton pump inhibitor-amoxicillin dual therapy: A systematic review and meta-analysis.\n",
      "Diagnostic value of IgG antibody and stool antigen tests for chronic Helicobacter pylori infections in Ibb Governorate, Yemen.\n",
      "Literature review Analysis of the Current State of Targeted Therapy for Gastrointestinal Cancers.\n",
      "Unveiling a Coalescing Catastrophe: Pre-pyloric Perforation Co-existing With Sigmoid Volvulus in a Middle-Aged Patient.\n",
      "Attitudes and Practices Regarding Helicobacter Pylori Infection Among the Public in Jordan: A Cross-Sectional Survey.\n",
      "Retracted: Clinical Effect of Clarithromycin Combined with Tinidazole on Helicobacter pylori-Related Gastritis and Its Influence on COX-2 Expression.\n",
      "Overcoming antibiotic resistance caused by genetic mutations of Helicobacter pylori with mucin adhesive polymer-based therapeutics.\n",
      "Anti-Helicobacter pylori Treatment in Patients With Gastric Cancer After Radical Gastrectomy.\n",
      "Synthesis and biological evaluation of pyridylpiperazine hybrid derivatives as urease inhibitors.\n",
      "Correlation of iron deficiency indexes with Eradication and Recurrence of Helicobacter Pylori Infection in Children.\n"
     ]
    }
   ],
   "source": [
    "fetch_result = Entrez.efetch(db=\"pubmed\", id=id_list, rettype=\"abstract\", retmode=\"xml\")\n",
    "xml_data = Entrez.read(fetch_result)\n",
    "# Parsing XML data depends on the information you need; you can access various parts of the data like so:\n",
    "for article in xml_data['PubmedArticle']:\n",
    "    print(article['MedlineCitation']['Article']['ArticleTitle'])\n"
   ]
  },
  {
   "cell_type": "code",
   "execution_count": 4,
   "id": "df60f40f",
   "metadata": {
    "ExecuteTime": {
     "end_time": "2024-03-31T13:16:18.289935Z",
     "start_time": "2024-03-31T13:16:18.276783Z"
    }
   },
   "outputs": [
    {
     "data": {
      "text/plain": [
       "{'AbstractText': [StringElement('To explore the correlation of iron deficiency (ID) indexes with eradication and recurrence of Helicobacter pylori (Hp) infection in children.', attributes={'Label': 'OBJECTIVE', 'NlmCategory': 'UNASSIGNED'}), StringElement(\"This is a clinical comparative study. One hundred and twenty-six children who were first diagnosed as Hp infection in Baoding Children's Hospital (Hp infection group); and the control group included 200 children without Helicobacter Pylori infection (negative stool Hp antigen test and/or 13C-urea breath test) in local region at the same time from January 2020 to January 2022. Enrolled children were subjected to routine blood test, serum ferritin (SF), serum iron (SI) and total iron binding capacity (TIBC) detection. Meanwhile, children with Hp infection were given triple therapy for eradication and followed up for one year.\", attributes={'Label': 'METHODS', 'NlmCategory': 'UNASSIGNED'}), StringElement('The levels of SI, SF and Hb in non-eradication group were lower than those in eradication group (P<0.05); while TIBC level in the former group was higher than that in the latter group (P<0.05). Furthermore, SF level in the recurrence group was lower than that in the non-recurrence group (P<0.05). While there was no significant difference in Hb, SI and TIBC levels between the recurrence group and the non-recurrence group (P>0.05).', attributes={'Label': 'RESULTS', 'NlmCategory': 'UNASSIGNED'}), StringElement('Low level of SF may be a risk factor for difficulty in eradication and recurrence after eradication in children with Hp infection. Meanwhile, low levels of Hb and SI are influential factors for difficulty in eradication in children with Hp infection.', attributes={'Label': 'CONCLUSION', 'NlmCategory': 'UNASSIGNED'})], 'CopyrightInformation': 'Copyright: © Pakistan Journal of Medical Sciences.'}"
      ]
     },
     "execution_count": 4,
     "metadata": {},
     "output_type": "execute_result"
    }
   ],
   "source": [
    "article['MedlineCitation']['Article']['Abstract']"
   ]
  }
 ],
 "metadata": {
  "kernelspec": {
   "display_name": "pubmed_kernel",
   "language": "python",
   "name": "pubmed_kernel"
  },
  "language_info": {
   "codemirror_mode": {
    "name": "ipython",
    "version": 3
   },
   "file_extension": ".py",
   "mimetype": "text/x-python",
   "name": "python",
   "nbconvert_exporter": "python",
   "pygments_lexer": "ipython3",
   "version": "3.9.7"
  },
  "toc": {
   "base_numbering": 1,
   "nav_menu": {},
   "number_sections": true,
   "sideBar": true,
   "skip_h1_title": false,
   "title_cell": "Table of Contents",
   "title_sidebar": "Contents",
   "toc_cell": false,
   "toc_position": {},
   "toc_section_display": true,
   "toc_window_display": false
  },
  "varInspector": {
   "cols": {
    "lenName": 16,
    "lenType": 16,
    "lenVar": 40
   },
   "kernels_config": {
    "python": {
     "delete_cmd_postfix": "",
     "delete_cmd_prefix": "del ",
     "library": "var_list.py",
     "varRefreshCmd": "print(var_dic_list())"
    },
    "r": {
     "delete_cmd_postfix": ") ",
     "delete_cmd_prefix": "rm(",
     "library": "var_list.r",
     "varRefreshCmd": "cat(var_dic_list()) "
    }
   },
   "types_to_exclude": [
    "module",
    "function",
    "builtin_function_or_method",
    "instance",
    "_Feature"
   ],
   "window_display": false
  }
 },
 "nbformat": 4,
 "nbformat_minor": 5
}
